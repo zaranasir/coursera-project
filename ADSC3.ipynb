{
    "cells": [
        {
            "metadata": {},
            "cell_type": "code",
            "source": "import pandas as pd\nimport numpy as np\nfrom sklearn.cluster import KMeans\nimport requests",
            "execution_count": 1,
            "outputs": []
        },
        {
            "metadata": {},
            "cell_type": "code",
            "source": "url=\"https://en.wikipedia.org/wiki/List_of_postal_codes_of_Canada:_M\"\nheader = {\n  \"User-Agent\": \"Mozilla/5.0 (X11; Linux x86_64) AppleWebKit/537.36 (KHTML, like Gecko) Chrome/50.0.2661.75 Safari/537.36\",\n  \"X-Requested-With\": \"XMLHttpRequest\"\n}\n\nr = requests.get(url, headers=header)\n\ntables = pd.read_html(r.text)\n\ndf=pd.DataFrame(tables[0])\n\n# The dataframe will consist of three columns: PostalCode, Borough, and Neighborhood\n\ndf.columns=['Postcode','Borough','Neighbourhood']\n\ndf.drop([0],axis=0,inplace=True)\n\ndf.reset_index()\n\n# Only process the cells that have an assigned borough. Ignore cells with a borough that is Not assigned.\n\ndf.drop(df[df['Borough']==\"Not assigned\"].index,axis=0, inplace=True)\n\n# More than one neighborhood can exist in one postal code area. \n# For example, in the table on the Wikipedia page, \n# you will notice that M5A is listed twice and has two neighborhoods: \n# Harbourfront and Regent Park. These two rows will be combined into one row with the neighborhoods \n# separated with a comma as shown in row 11 in the above table.\n\ndf1=df.groupby(\"Postcode\").agg(lambda x:','.join(set(x)))\n\n# If a cell has a borough but a Not assigned neighborhood, \n# then the neighborhood will be the same as the borough. \n# So for the 9th cell in the table on the Wikipedia page, \n# the value of the Borough and the Neighborhood columns will be Queen's Park.\n\ndf1.loc[df1['Neighbourhood']==\"Not assigned\",'Neighbourhood']=df1.loc[df1['Neighbourhood']==\"Not assigned\",'Borough']\n\ndf1.shape",
            "execution_count": 2,
            "outputs": [
                {
                    "output_type": "execute_result",
                    "execution_count": 2,
                    "data": {
                        "text/plain": "(103, 2)"
                    },
                    "metadata": {}
                }
            ]
        },
        {
            "metadata": {},
            "cell_type": "markdown",
            "source": "We're assuming there are only three columns: PostalCode, Borough and Neighborhood. We can only process the cells that have an assigned borough. We assume the 'not assigned' cells are not applicable to this table. We also assume more than one neighbourhood can exist in one postal code area. We assume borough but NOT ASSIGNED = neighbourhood is the same as borough. "
        }
    ],
    "metadata": {
        "kernelspec": {
            "name": "python3",
            "display_name": "Python 3.6",
            "language": "python"
        },
        "language_info": {
            "name": "python",
            "version": "3.6.9",
            "mimetype": "text/x-python",
            "codemirror_mode": {
                "name": "ipython",
                "version": 3
            },
            "pygments_lexer": "ipython3",
            "nbconvert_exporter": "python",
            "file_extension": ".py"
        }
    },
    "nbformat": 4,
    "nbformat_minor": 1
}